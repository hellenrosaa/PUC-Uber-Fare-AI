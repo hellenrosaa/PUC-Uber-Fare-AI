{
 "cells": [
  {
   "cell_type": "markdown",
   "metadata": {
    "vscode": {
     "languageId": "plaintext"
    }
   },
   "source": [
    "## Importando bibliotecas"
   ]
  },
  {
   "cell_type": "code",
   "execution_count": null,
   "metadata": {},
   "outputs": [],
   "source": [
    "import pandas as pd\n",
    "import os\n",
    "import unidecode\n",
    "import re"
   ]
  },
  {
   "cell_type": "markdown",
   "metadata": {},
   "source": [
    "Product.csv"
   ]
  },
  {
   "cell_type": "code",
   "execution_count": null,
   "metadata": {},
   "outputs": [],
   "source": [
    "product_df = pd.read_csv('../data/product.csv', sep=';', names=['ProductID', 'ProviderID', 'CategoryID', 'Description'])\n",
    "product_df = product_df.iloc[1:].reset_index(drop=True)\n",
    "\n",
    "display(product_df)"
   ]
  },
  {
   "cell_type": "markdown",
   "metadata": {},
   "source": [
    "## Padronizar dados"
   ]
  },
  {
   "cell_type": "code",
   "execution_count": null,
   "metadata": {},
   "outputs": [],
   "source": [
    "# Ordenar em ordem decrescente\n",
    "valores_unicos_ordenados_desc = sorted(product_df['ProductID'].unique(), reverse=True)\n",
    "\n",
    "# Mostrar os valores únicos ordenados em ordem decrescente\n",
    "print(valores_unicos_ordenados_desc)"
   ]
  },
  {
   "cell_type": "code",
   "execution_count": null,
   "metadata": {},
   "outputs": [],
   "source": [
    "# Função de padronização\n",
    "def padronizar_nome(nome):\n",
    "    nome = nome.strip().lower()  # Remove espaços e converte para minúsculas\n",
    "    \n",
    "    # Substituir variações específicas\n",
    "    nome = re.sub(r'(?i)taxi(\\s*|\\s*[-]\\s*)', 'taxi ', nome)  # Padroniza variações de 'taxi'\n",
    "    nome = re.sub(r'(?i)uber(\\s*|\\s*[-]\\s*)', 'uber ', nome)  # Padroniza variações de 'uber'\n",
    "    nome = re.sub(r'(?i)comfort(\\s*|\\s*[-]\\s*)', 'comfort ', nome)  # Padroniza variações de 'comfort'\n",
    "    nome = re.sub(r'(?i)moto(\\s*|\\s*[-]\\s*)', 'moto ', nome)  # Padroniza variações de 'moto'\n",
    "    nome = re.sub(r'(?i)delivery(\\s*|\\s*[-]\\s*)', 'delivery ', nome)  # Padroniza variações de 'delivery'\n",
    "    nome = re.sub(r'(?i)regular(\\s*|\\s*[-]\\s*)', 'regular ', nome)  # Padroniza variações de 'regular'\n",
    "    nome = re.sub(r'(?i)flash(\\s*|\\s*[-]\\s*)', 'flash ', nome)  # Padroniza variações de 'flash'\n",
    "    \n",
    "    # Eliminar caracteres não alfanuméricos (exceto espaços)\n",
    "    nome = re.sub(r'[^a-z0-9\\s]', '', nome)\n",
    "    \n",
    "    # Manter apenas as palavras essenciais\n",
    "    nome = ' '.join(nome.split())  # Remove espaços extras\n",
    "    \n",
    "    return nome\n",
    "\n",
    "# Aplicar a função de padronização à coluna do DataFrame\n",
    "product_df['ProductID_padronizado'] = product_df['ProductID'].apply(padronizar_nome)\n",
    "product_df['ProductID_padronizado'] = product_df['ProductID_padronizado'].str.replace(' ', '', regex=False)"
   ]
  },
  {
   "cell_type": "code",
   "execution_count": null,
   "metadata": {},
   "outputs": [],
   "source": [
    "# Ordenar em ordem decrescente\n",
    "valores_unicos_ordenados_desc = sorted(product_df['Description'].unique(), reverse=True)\n",
    "\n",
    "# Mostrar os valores únicos ordenados em ordem decrescente\n",
    "print(valores_unicos_ordenados_desc)"
   ]
  },
  {
   "cell_type": "code",
   "execution_count": null,
   "metadata": {},
   "outputs": [],
   "source": [
    "# Função para limpar e padronizar strings\n",
    "def padronizar_description(desc):\n",
    "    if pd.isna(desc):\n",
    "        return ''\n",
    "    desc = str(desc).strip()                            # remove espaços no início/fim\n",
    "    desc = unidecode.unidecode(desc)                    # remove acentos\n",
    "    desc = desc.lower()                                 # tudo minúsculo\n",
    "    desc = re.sub(r'[^a-z0-9]', '', desc)               # remove caracteres especiais, mantendo letras e números\n",
    "    return desc\n",
    "\n",
    "# Aplicar a padronização\n",
    "product_df['Description_padronizada'] = product_df['Description'].apply(padronizar_description)"
   ]
  },
  {
   "cell_type": "code",
   "execution_count": null,
   "metadata": {},
   "outputs": [],
   "source": [
    "product_df.drop(['ProductID', 'Description'], axis=1, inplace=True)\n",
    "product_df"
   ]
  },
  {
   "cell_type": "code",
   "execution_count": null,
   "metadata": {},
   "outputs": [],
   "source": [
    "# Ordenar em ordem decrescente\n",
    "valores_unicos_ordenados_desc = sorted(product_df['CategoryID'].unique(), reverse=False)\n",
    "\n",
    "# Mostrar os valores únicos ordenados em ordem decrescente\n",
    "print(valores_unicos_ordenados_desc)\n",
    "len(product_df['CategoryID'].unique())"
   ]
  },
  {
   "cell_type": "code",
   "execution_count": null,
   "metadata": {},
   "outputs": [],
   "source": [
    "# Ordenar em ordem decrescente\n",
    "valores_unicos_ordenados_desc = sorted(product_df['ProviderID'].unique(), reverse=False)\n",
    "\n",
    "# Mostrar os valores únicos ordenados em ordem decrescente\n",
    "print(valores_unicos_ordenados_desc)\n",
    "len(product_df['ProviderID'].unique())"
   ]
  },
  {
   "cell_type": "code",
   "execution_count": null,
   "metadata": {},
   "outputs": [],
   "source": [
    "\"\"\"# Salvar CSV limpo\n",
    "os.makedirs('../data_final', exist_ok=True)\n",
    "product_df.to_csv('../data_final/product_limpo.csv', index=False)\n",
    "\n",
    "print(\"\\n✅ CSV limpo salvo com sucesso em: ../data_final/product_limpo.csv\")\"\"\""
   ]
  }
 ],
 "metadata": {
  "kernelspec": {
   "display_name": "Python 3",
   "language": "python",
   "name": "python3"
  },
  "language_info": {
   "codemirror_mode": {
    "name": "ipython",
    "version": 3
   },
   "file_extension": ".py",
   "mimetype": "text/x-python",
   "name": "python",
   "nbconvert_exporter": "python",
   "pygments_lexer": "ipython3",
   "version": "3.13.2"
  }
 },
 "nbformat": 4,
 "nbformat_minor": 2
}
